{
 "cells": [
  {
   "cell_type": "code",
   "execution_count": 1,
   "id": "c1de5356",
   "metadata": {},
   "outputs": [],
   "source": [
    "#Step 1:import required libraries\n",
    "import numpy as np\n",
    "import pandas as pd\n",
    "import matplotlib.pyplot as plt\n",
    "from sklearn import linear_model\n",
    "from sklearn.metrics import mean_absolute_error,mean_squared_error,r2_score"
   ]
  },
  {
   "cell_type": "code",
   "execution_count": 2,
   "id": "474af933",
   "metadata": {},
   "outputs": [
    {
     "data": {
      "text/html": [
       "<div>\n",
       "<style scoped>\n",
       "    .dataframe tbody tr th:only-of-type {\n",
       "        vertical-align: middle;\n",
       "    }\n",
       "\n",
       "    .dataframe tbody tr th {\n",
       "        vertical-align: top;\n",
       "    }\n",
       "\n",
       "    .dataframe thead th {\n",
       "        text-align: right;\n",
       "    }\n",
       "</style>\n",
       "<table border=\"1\" class=\"dataframe\">\n",
       "  <thead>\n",
       "    <tr style=\"text-align: right;\">\n",
       "      <th></th>\n",
       "      <th>Years</th>\n",
       "      <th>Total Number of Road Accidents (in numbers)</th>\n",
       "      <th>Total Number of Persons Killed (in numbers)</th>\n",
       "      <th>Total Number of Persons Injured (in numbers)</th>\n",
       "      <th>Population of India (in thousands)</th>\n",
       "      <th>Total Number of Registered Motor Vehicles (in thousands)</th>\n",
       "      <th>Road Length (in kms)</th>\n",
       "      <th>Number of Accidents per Lakh Population</th>\n",
       "      <th>Number of Accidents per Ten Thousand Vehicles</th>\n",
       "      <th>Number of Accidents Per Ten Thousand Kms of Roads</th>\n",
       "      <th>Number of Persons Killed Per Lakh Population</th>\n",
       "      <th>Number of Persons Killed Per Ten Thousand Vehicles</th>\n",
       "      <th>Number of Persons Killed per Ten Thousand Kms of Roads</th>\n",
       "      <th>Number of Persons Injured per Lakh Population</th>\n",
       "      <th>Number of Persons Injured Per Ten Thousand Vehicles</th>\n",
       "      <th>Number of Persons Injured Per Ten Thousand Kms of Roads</th>\n",
       "    </tr>\n",
       "  </thead>\n",
       "  <tbody>\n",
       "    <tr>\n",
       "      <th>0</th>\n",
       "      <td>1970</td>\n",
       "      <td>114100.0</td>\n",
       "      <td>14500.0</td>\n",
       "      <td>70100.0</td>\n",
       "      <td>539000.0</td>\n",
       "      <td>1401.0</td>\n",
       "      <td>1188728.0</td>\n",
       "      <td>21.2</td>\n",
       "      <td>814.4</td>\n",
       "      <td>959.8</td>\n",
       "      <td>2.7</td>\n",
       "      <td>103.5</td>\n",
       "      <td>122.0</td>\n",
       "      <td>13.0</td>\n",
       "      <td>500.4</td>\n",
       "      <td>589.7</td>\n",
       "    </tr>\n",
       "    <tr>\n",
       "      <th>1</th>\n",
       "      <td>1980</td>\n",
       "      <td>153200.0</td>\n",
       "      <td>24000.0</td>\n",
       "      <td>109100.0</td>\n",
       "      <td>673000.0</td>\n",
       "      <td>4521.0</td>\n",
       "      <td>1491873.0</td>\n",
       "      <td>22.8</td>\n",
       "      <td>338.9</td>\n",
       "      <td>1026.9</td>\n",
       "      <td>3.6</td>\n",
       "      <td>53.1</td>\n",
       "      <td>160.9</td>\n",
       "      <td>16.2</td>\n",
       "      <td>241.3</td>\n",
       "      <td>731.3</td>\n",
       "    </tr>\n",
       "    <tr>\n",
       "      <th>2</th>\n",
       "      <td>1990</td>\n",
       "      <td>282600.0</td>\n",
       "      <td>54100.0</td>\n",
       "      <td>244100.0</td>\n",
       "      <td>835000.0</td>\n",
       "      <td>19152.0</td>\n",
       "      <td>1983867.0</td>\n",
       "      <td>33.8</td>\n",
       "      <td>147.6</td>\n",
       "      <td>1424.5</td>\n",
       "      <td>6.5</td>\n",
       "      <td>28.2</td>\n",
       "      <td>272.7</td>\n",
       "      <td>29.2</td>\n",
       "      <td>127.5</td>\n",
       "      <td>1230.4</td>\n",
       "    </tr>\n",
       "    <tr>\n",
       "      <th>3</th>\n",
       "      <td>1994</td>\n",
       "      <td>325864.0</td>\n",
       "      <td>64463.0</td>\n",
       "      <td>311500.0</td>\n",
       "      <td>904000.0</td>\n",
       "      <td>27660.0</td>\n",
       "      <td>2890950.0</td>\n",
       "      <td>36.0</td>\n",
       "      <td>117.8</td>\n",
       "      <td>1127.2</td>\n",
       "      <td>7.1</td>\n",
       "      <td>23.3</td>\n",
       "      <td>223.0</td>\n",
       "      <td>34.5</td>\n",
       "      <td>112.6</td>\n",
       "      <td>1077.5</td>\n",
       "    </tr>\n",
       "    <tr>\n",
       "      <th>4</th>\n",
       "      <td>1995</td>\n",
       "      <td>351999.0</td>\n",
       "      <td>70781.0</td>\n",
       "      <td>323200.0</td>\n",
       "      <td>924359.0</td>\n",
       "      <td>30295.0</td>\n",
       "      <td>2975035.0</td>\n",
       "      <td>38.1</td>\n",
       "      <td>116.2</td>\n",
       "      <td>1183.2</td>\n",
       "      <td>7.7</td>\n",
       "      <td>23.4</td>\n",
       "      <td>237.9</td>\n",
       "      <td>35.0</td>\n",
       "      <td>106.7</td>\n",
       "      <td>1086.4</td>\n",
       "    </tr>\n",
       "  </tbody>\n",
       "</table>\n",
       "</div>"
      ],
      "text/plain": [
       "  Years  Total Number of Road Accidents (in numbers)  \\\n",
       "0  1970                                     114100.0   \n",
       "1  1980                                     153200.0   \n",
       "2  1990                                     282600.0   \n",
       "3  1994                                     325864.0   \n",
       "4  1995                                     351999.0   \n",
       "\n",
       "   Total Number of Persons Killed (in numbers)  \\\n",
       "0                                      14500.0   \n",
       "1                                      24000.0   \n",
       "2                                      54100.0   \n",
       "3                                      64463.0   \n",
       "4                                      70781.0   \n",
       "\n",
       "   Total Number of Persons Injured (in numbers)  \\\n",
       "0                                       70100.0   \n",
       "1                                      109100.0   \n",
       "2                                      244100.0   \n",
       "3                                      311500.0   \n",
       "4                                      323200.0   \n",
       "\n",
       "   Population of India (in thousands)  \\\n",
       "0                            539000.0   \n",
       "1                            673000.0   \n",
       "2                            835000.0   \n",
       "3                            904000.0   \n",
       "4                            924359.0   \n",
       "\n",
       "   Total Number of Registered Motor Vehicles (in thousands)  \\\n",
       "0                                             1401.0          \n",
       "1                                             4521.0          \n",
       "2                                            19152.0          \n",
       "3                                            27660.0          \n",
       "4                                            30295.0          \n",
       "\n",
       "   Road Length (in kms)  Number of Accidents per Lakh Population  \\\n",
       "0             1188728.0                                     21.2   \n",
       "1             1491873.0                                     22.8   \n",
       "2             1983867.0                                     33.8   \n",
       "3             2890950.0                                     36.0   \n",
       "4             2975035.0                                     38.1   \n",
       "\n",
       "   Number of Accidents per Ten Thousand Vehicles  \\\n",
       "0                                          814.4   \n",
       "1                                          338.9   \n",
       "2                                          147.6   \n",
       "3                                          117.8   \n",
       "4                                          116.2   \n",
       "\n",
       "   Number of Accidents Per Ten Thousand Kms of Roads  \\\n",
       "0                                              959.8   \n",
       "1                                             1026.9   \n",
       "2                                             1424.5   \n",
       "3                                             1127.2   \n",
       "4                                             1183.2   \n",
       "\n",
       "   Number of Persons Killed Per Lakh Population  \\\n",
       "0                                           2.7   \n",
       "1                                           3.6   \n",
       "2                                           6.5   \n",
       "3                                           7.1   \n",
       "4                                           7.7   \n",
       "\n",
       "   Number of Persons Killed Per Ten Thousand Vehicles  \\\n",
       "0                                              103.5    \n",
       "1                                               53.1    \n",
       "2                                               28.2    \n",
       "3                                               23.3    \n",
       "4                                               23.4    \n",
       "\n",
       "   Number of Persons Killed per Ten Thousand Kms of Roads  \\\n",
       "0                                              122.0        \n",
       "1                                              160.9        \n",
       "2                                              272.7        \n",
       "3                                              223.0        \n",
       "4                                              237.9        \n",
       "\n",
       "   Number of Persons Injured per Lakh Population  \\\n",
       "0                                           13.0   \n",
       "1                                           16.2   \n",
       "2                                           29.2   \n",
       "3                                           34.5   \n",
       "4                                           35.0   \n",
       "\n",
       "   Number of Persons Injured Per Ten Thousand Vehicles  \\\n",
       "0                                              500.4     \n",
       "1                                              241.3     \n",
       "2                                              127.5     \n",
       "3                                              112.6     \n",
       "4                                              106.7     \n",
       "\n",
       "   Number of Persons Injured Per Ten Thousand Kms of Roads  \n",
       "0                                              589.7        \n",
       "1                                              731.3        \n",
       "2                                             1230.4        \n",
       "3                                             1077.5        \n",
       "4                                             1086.4        "
      ]
     },
     "execution_count": 2,
     "metadata": {},
     "output_type": "execute_result"
    }
   ],
   "source": [
    "#Step 2:read the datset\n",
    "df=pd.read_csv('https://raw.githubusercontent.com/goradbj/MachineLearning/main/Regression/Road-Accidents-2018-Annexure-1.csv')\n",
    "df.head()"
   ]
  },
  {
   "cell_type": "code",
   "execution_count": 4,
   "id": "73c47ad7",
   "metadata": {},
   "outputs": [
    {
     "data": {
      "text/plain": [
       "(29, 16)"
      ]
     },
     "execution_count": 4,
     "metadata": {},
     "output_type": "execute_result"
    }
   ],
   "source": [
    "#Exploratory data analysis and data preprocession\n",
    "df.shape"
   ]
  },
  {
   "cell_type": "code",
   "execution_count": 5,
   "id": "957e4c6d",
   "metadata": {},
   "outputs": [
    {
     "data": {
      "text/plain": [
       "Index(['Years', 'Total Number of Road Accidents (in numbers)',\n",
       "       'Total Number of Persons Killed (in numbers)',\n",
       "       'Total Number of Persons Injured (in numbers)',\n",
       "       'Population of India (in thousands)',\n",
       "       'Total Number of Registered Motor Vehicles (in thousands)',\n",
       "       'Road Length (in kms)', 'Number of Accidents per Lakh Population',\n",
       "       'Number of Accidents per Ten Thousand Vehicles',\n",
       "       'Number of Accidents Per Ten Thousand Kms of Roads',\n",
       "       'Number of Persons Killed Per Lakh Population',\n",
       "       'Number of Persons Killed Per Ten Thousand Vehicles',\n",
       "       'Number of Persons Killed per Ten Thousand Kms of Roads',\n",
       "       'Number of Persons Injured per Lakh Population',\n",
       "       'Number of Persons Injured Per Ten Thousand Vehicles',\n",
       "       'Number of Persons Injured Per Ten Thousand Kms of Roads'],\n",
       "      dtype='object')"
      ]
     },
     "execution_count": 5,
     "metadata": {},
     "output_type": "execute_result"
    }
   ],
   "source": [
    "df.columns"
   ]
  },
  {
   "cell_type": "code",
   "execution_count": 8,
   "id": "6d8017be",
   "metadata": {},
   "outputs": [],
   "source": [
    "#select only relevant columns for building model\n",
    "df=df[['Years','Total Number of Persons Killed (in numbers)']]"
   ]
  },
  {
   "cell_type": "code",
   "execution_count": 9,
   "id": "8b8d6bbf",
   "metadata": {},
   "outputs": [
    {
     "data": {
      "text/html": [
       "<div>\n",
       "<style scoped>\n",
       "    .dataframe tbody tr th:only-of-type {\n",
       "        vertical-align: middle;\n",
       "    }\n",
       "\n",
       "    .dataframe tbody tr th {\n",
       "        vertical-align: top;\n",
       "    }\n",
       "\n",
       "    .dataframe thead th {\n",
       "        text-align: right;\n",
       "    }\n",
       "</style>\n",
       "<table border=\"1\" class=\"dataframe\">\n",
       "  <thead>\n",
       "    <tr style=\"text-align: right;\">\n",
       "      <th></th>\n",
       "      <th>Years</th>\n",
       "      <th>Total Number of Persons Killed (in numbers)</th>\n",
       "    </tr>\n",
       "  </thead>\n",
       "  <tbody>\n",
       "    <tr>\n",
       "      <th>0</th>\n",
       "      <td>1970</td>\n",
       "      <td>14500.00</td>\n",
       "    </tr>\n",
       "    <tr>\n",
       "      <th>1</th>\n",
       "      <td>1980</td>\n",
       "      <td>24000.00</td>\n",
       "    </tr>\n",
       "    <tr>\n",
       "      <th>2</th>\n",
       "      <td>1990</td>\n",
       "      <td>54100.00</td>\n",
       "    </tr>\n",
       "    <tr>\n",
       "      <th>3</th>\n",
       "      <td>1994</td>\n",
       "      <td>64463.00</td>\n",
       "    </tr>\n",
       "    <tr>\n",
       "      <th>4</th>\n",
       "      <td>1995</td>\n",
       "      <td>70781.00</td>\n",
       "    </tr>\n",
       "    <tr>\n",
       "      <th>5</th>\n",
       "      <td>1996</td>\n",
       "      <td>74665.00</td>\n",
       "    </tr>\n",
       "    <tr>\n",
       "      <th>6</th>\n",
       "      <td>1997</td>\n",
       "      <td>76977.00</td>\n",
       "    </tr>\n",
       "    <tr>\n",
       "      <th>7</th>\n",
       "      <td>1998</td>\n",
       "      <td>79919.00</td>\n",
       "    </tr>\n",
       "    <tr>\n",
       "      <th>8</th>\n",
       "      <td>1999</td>\n",
       "      <td>81966.00</td>\n",
       "    </tr>\n",
       "    <tr>\n",
       "      <th>9</th>\n",
       "      <td>2000</td>\n",
       "      <td>78911.00</td>\n",
       "    </tr>\n",
       "    <tr>\n",
       "      <th>10</th>\n",
       "      <td>2001</td>\n",
       "      <td>80888.00</td>\n",
       "    </tr>\n",
       "    <tr>\n",
       "      <th>11</th>\n",
       "      <td>2002</td>\n",
       "      <td>84674.00</td>\n",
       "    </tr>\n",
       "    <tr>\n",
       "      <th>12</th>\n",
       "      <td>2003</td>\n",
       "      <td>85998.00</td>\n",
       "    </tr>\n",
       "    <tr>\n",
       "      <th>13</th>\n",
       "      <td>2004</td>\n",
       "      <td>92618.00</td>\n",
       "    </tr>\n",
       "    <tr>\n",
       "      <th>14</th>\n",
       "      <td>2005</td>\n",
       "      <td>94968.00</td>\n",
       "    </tr>\n",
       "    <tr>\n",
       "      <th>15</th>\n",
       "      <td>2006</td>\n",
       "      <td>105749.00</td>\n",
       "    </tr>\n",
       "    <tr>\n",
       "      <th>16</th>\n",
       "      <td>2007</td>\n",
       "      <td>114444.00</td>\n",
       "    </tr>\n",
       "    <tr>\n",
       "      <th>17</th>\n",
       "      <td>2008</td>\n",
       "      <td>119860.00</td>\n",
       "    </tr>\n",
       "    <tr>\n",
       "      <th>18</th>\n",
       "      <td>2009</td>\n",
       "      <td>125660.00</td>\n",
       "    </tr>\n",
       "    <tr>\n",
       "      <th>19</th>\n",
       "      <td>2010</td>\n",
       "      <td>134513.00</td>\n",
       "    </tr>\n",
       "    <tr>\n",
       "      <th>20</th>\n",
       "      <td>2011</td>\n",
       "      <td>142485.00</td>\n",
       "    </tr>\n",
       "    <tr>\n",
       "      <th>21</th>\n",
       "      <td>2012</td>\n",
       "      <td>138258.00</td>\n",
       "    </tr>\n",
       "    <tr>\n",
       "      <th>22</th>\n",
       "      <td>2013</td>\n",
       "      <td>137572.00</td>\n",
       "    </tr>\n",
       "    <tr>\n",
       "      <th>23</th>\n",
       "      <td>2014</td>\n",
       "      <td>139671.00</td>\n",
       "    </tr>\n",
       "    <tr>\n",
       "      <th>24</th>\n",
       "      <td>2015</td>\n",
       "      <td>146133.00</td>\n",
       "    </tr>\n",
       "    <tr>\n",
       "      <th>25</th>\n",
       "      <td>2016</td>\n",
       "      <td>150785.00</td>\n",
       "    </tr>\n",
       "    <tr>\n",
       "      <th>26</th>\n",
       "      <td>2017</td>\n",
       "      <td>147913.00</td>\n",
       "    </tr>\n",
       "    <tr>\n",
       "      <th>27</th>\n",
       "      <td>2018</td>\n",
       "      <td>151417.00</td>\n",
       "    </tr>\n",
       "    <tr>\n",
       "      <th>28</th>\n",
       "      <td>CAGR 2008/2018</td>\n",
       "      <td>2.36</td>\n",
       "    </tr>\n",
       "  </tbody>\n",
       "</table>\n",
       "</div>"
      ],
      "text/plain": [
       "             Years  Total Number of Persons Killed (in numbers)\n",
       "0             1970                                     14500.00\n",
       "1             1980                                     24000.00\n",
       "2             1990                                     54100.00\n",
       "3             1994                                     64463.00\n",
       "4             1995                                     70781.00\n",
       "5             1996                                     74665.00\n",
       "6             1997                                     76977.00\n",
       "7             1998                                     79919.00\n",
       "8             1999                                     81966.00\n",
       "9             2000                                     78911.00\n",
       "10            2001                                     80888.00\n",
       "11            2002                                     84674.00\n",
       "12            2003                                     85998.00\n",
       "13            2004                                     92618.00\n",
       "14            2005                                     94968.00\n",
       "15            2006                                    105749.00\n",
       "16            2007                                    114444.00\n",
       "17            2008                                    119860.00\n",
       "18            2009                                    125660.00\n",
       "19            2010                                    134513.00\n",
       "20            2011                                    142485.00\n",
       "21            2012                                    138258.00\n",
       "22            2013                                    137572.00\n",
       "23            2014                                    139671.00\n",
       "24            2015                                    146133.00\n",
       "25            2016                                    150785.00\n",
       "26            2017                                    147913.00\n",
       "27            2018                                    151417.00\n",
       "28  CAGR 2008/2018                                         2.36"
      ]
     },
     "execution_count": 9,
     "metadata": {},
     "output_type": "execute_result"
    }
   ],
   "source": [
    "df"
   ]
  },
  {
   "cell_type": "code",
   "execution_count": 10,
   "id": "33f018bf",
   "metadata": {},
   "outputs": [],
   "source": [
    "#drop record index(28) as it is not in proper format\n",
    "df=df.drop(df.index[28])"
   ]
  },
  {
   "cell_type": "code",
   "execution_count": 11,
   "id": "7400c6de",
   "metadata": {},
   "outputs": [
    {
     "data": {
      "text/html": [
       "<div>\n",
       "<style scoped>\n",
       "    .dataframe tbody tr th:only-of-type {\n",
       "        vertical-align: middle;\n",
       "    }\n",
       "\n",
       "    .dataframe tbody tr th {\n",
       "        vertical-align: top;\n",
       "    }\n",
       "\n",
       "    .dataframe thead th {\n",
       "        text-align: right;\n",
       "    }\n",
       "</style>\n",
       "<table border=\"1\" class=\"dataframe\">\n",
       "  <thead>\n",
       "    <tr style=\"text-align: right;\">\n",
       "      <th></th>\n",
       "      <th>Years</th>\n",
       "      <th>Total Number of Persons Killed (in numbers)</th>\n",
       "    </tr>\n",
       "  </thead>\n",
       "  <tbody>\n",
       "    <tr>\n",
       "      <th>23</th>\n",
       "      <td>2014</td>\n",
       "      <td>139671.0</td>\n",
       "    </tr>\n",
       "    <tr>\n",
       "      <th>24</th>\n",
       "      <td>2015</td>\n",
       "      <td>146133.0</td>\n",
       "    </tr>\n",
       "    <tr>\n",
       "      <th>25</th>\n",
       "      <td>2016</td>\n",
       "      <td>150785.0</td>\n",
       "    </tr>\n",
       "    <tr>\n",
       "      <th>26</th>\n",
       "      <td>2017</td>\n",
       "      <td>147913.0</td>\n",
       "    </tr>\n",
       "    <tr>\n",
       "      <th>27</th>\n",
       "      <td>2018</td>\n",
       "      <td>151417.0</td>\n",
       "    </tr>\n",
       "  </tbody>\n",
       "</table>\n",
       "</div>"
      ],
      "text/plain": [
       "   Years  Total Number of Persons Killed (in numbers)\n",
       "23  2014                                     139671.0\n",
       "24  2015                                     146133.0\n",
       "25  2016                                     150785.0\n",
       "26  2017                                     147913.0\n",
       "27  2018                                     151417.0"
      ]
     },
     "execution_count": 11,
     "metadata": {},
     "output_type": "execute_result"
    }
   ],
   "source": [
    "df.tail()"
   ]
  },
  {
   "cell_type": "code",
   "execution_count": 12,
   "id": "a6bbdb7f",
   "metadata": {},
   "outputs": [
    {
     "name": "stdout",
     "output_type": "stream",
     "text": [
      "<class 'pandas.core.frame.DataFrame'>\n",
      "Int64Index: 28 entries, 0 to 27\n",
      "Data columns (total 2 columns):\n",
      " #   Column                                       Non-Null Count  Dtype  \n",
      "---  ------                                       --------------  -----  \n",
      " 0   Years                                        28 non-null     object \n",
      " 1   Total Number of Persons Killed (in numbers)  28 non-null     float64\n",
      "dtypes: float64(1), object(1)\n",
      "memory usage: 672.0+ bytes\n"
     ]
    }
   ],
   "source": [
    "df.info()"
   ]
  },
  {
   "cell_type": "code",
   "execution_count": 13,
   "id": "dec2e2b9",
   "metadata": {},
   "outputs": [
    {
     "data": {
      "text/plain": [
       "Years                                          0\n",
       "Total Number of Persons Killed (in numbers)    0\n",
       "dtype: int64"
      ]
     },
     "execution_count": 13,
     "metadata": {},
     "output_type": "execute_result"
    }
   ],
   "source": [
    "#check for missing values\n",
    "df.isnull().sum()"
   ]
  },
  {
   "cell_type": "code",
   "execution_count": 14,
   "id": "9f1335c2",
   "metadata": {},
   "outputs": [],
   "source": [
    "#data is already numerical so there is no  need of encoding"
   ]
  },
  {
   "cell_type": "code",
   "execution_count": 17,
   "id": "4fb9ec7e",
   "metadata": {},
   "outputs": [
    {
     "data": {
      "text/plain": [
       "Text(0.5, 1.0, 'car road accidents in india-yearwise')"
      ]
     },
     "execution_count": 17,
     "metadata": {},
     "output_type": "execute_result"
    },
    {
     "data": {
      "image/png": "[encoded data removed]",
      "text/plain": [
       "<Figure size 432x288 with 1 Axes>"
      ]
     },
     "metadata": {
      "needs_background": "light"
     },
     "output_type": "display_data"
    }
   ],
   "source": [
    "#data visualization\n",
    "plt.scatter(df['Years'],df['Total Number of Persons Killed (in numbers)'])\n",
    "plt.xticks(rotation='vertical')\n",
    "plt.xlabel(('Years'))\n",
    "plt.ylabel(('Total Number of Persons Killed (in numbers)'))\n",
    "plt.title(('car road accidents in india-yearwise'))"
   ]
  },
  {
   "cell_type": "markdown",
   "id": "b062e0fc",
   "metadata": {},
   "source": [
    "# Divide the dataset into train and test"
   ]
  },
  {
   "cell_type": "code",
   "execution_count": 28,
   "id": "0e75d64f",
   "metadata": {},
   "outputs": [],
   "source": [
    "x=df[['Years']]"
   ]
  },
  {
   "cell_type": "code",
   "execution_count": 29,
   "id": "9a28525b",
   "metadata": {},
   "outputs": [],
   "source": [
    "y=df[['Total Number of Persons Killed (in numbers)']]"
   ]
  },
  {
   "cell_type": "code",
   "execution_count": 31,
   "id": "4b592c19",
   "metadata": {},
   "outputs": [
    {
     "data": {
      "text/plain": [
       "(28, 1)"
      ]
     },
     "execution_count": 31,
     "metadata": {},
     "output_type": "execute_result"
    }
   ],
   "source": [
    "x.shape"
   ]
  },
  {
   "cell_type": "code",
   "execution_count": 32,
   "id": "d694ca9a",
   "metadata": {},
   "outputs": [
    {
     "data": {
      "text/plain": [
       "(28, 1)"
      ]
     },
     "execution_count": 32,
     "metadata": {},
     "output_type": "execute_result"
    }
   ],
   "source": [
    "y.shape"
   ]
  },
  {
   "cell_type": "code",
   "execution_count": 33,
   "id": "5c028087",
   "metadata": {},
   "outputs": [],
   "source": [
    "from sklearn.model_selection import train_test_split"
   ]
  },
  {
   "cell_type": "code",
   "execution_count": 34,
   "id": "1f956395",
   "metadata": {},
   "outputs": [],
   "source": [
    "x_train,x_test,y_train,y_test=train_test_split(x,y,test_size=0.20)"
   ]
  },
  {
   "cell_type": "code",
   "execution_count": 35,
   "id": "bfdcc5a7",
   "metadata": {},
   "outputs": [
    {
     "name": "stdout",
     "output_type": "stream",
     "text": [
      "(28, 2)\n",
      "(22, 1)\n",
      "(6, 1)\n",
      "(22, 1)\n",
      "(6, 1)\n"
     ]
    }
   ],
   "source": [
    "print(df.shape)\n",
    "print(x_train.shape)\n",
    "print(x_test.shape)\n",
    "print(y_train.shape)\n",
    "print(y_test.shape)"
   ]
  },
  {
   "cell_type": "code",
   "execution_count": 36,
   "id": "7b277ba1",
   "metadata": {},
   "outputs": [],
   "source": [
    "#to build model"
   ]
  },
  {
   "cell_type": "code",
   "execution_count": 37,
   "id": "62573428",
   "metadata": {},
   "outputs": [],
   "source": [
    "prediction_model=linear_model.LinearRegression()"
   ]
  },
  {
   "cell_type": "code",
   "execution_count": 38,
   "id": "06aaa771",
   "metadata": {},
   "outputs": [
    {
     "data": {
      "text/plain": [
       "LinearRegression()"
      ]
     },
     "execution_count": 38,
     "metadata": {},
     "output_type": "execute_result"
    }
   ],
   "source": [
    "prediction_model.fit(x_train,y_train)"
   ]
  },
  {
   "cell_type": "code",
   "execution_count": 39,
   "id": "fd239e14",
   "metadata": {},
   "outputs": [
    {
     "data": {
      "text/plain": [
       "array([[3738.36304197]])"
      ]
     },
     "execution_count": 39,
     "metadata": {},
     "output_type": "execute_result"
    }
   ],
   "source": [
    "# m1 and m2 is\n",
    "prediction_model.coef_"
   ]
  },
  {
   "cell_type": "code",
   "execution_count": 40,
   "id": "16bdb1f6",
   "metadata": {},
   "outputs": [
    {
     "data": {
      "text/plain": [
       "array([-7389494.91941232])"
      ]
     },
     "execution_count": 40,
     "metadata": {},
     "output_type": "execute_result"
    }
   ],
   "source": [
    "#c is \n",
    "prediction_model.intercept_"
   ]
  },
  {
   "cell_type": "code",
   "execution_count": 41,
   "id": "03bdb699",
   "metadata": {},
   "outputs": [
    {
     "data": {
      "text/plain": [
       "array([[143306.61016384]])"
      ]
     },
     "execution_count": 41,
     "metadata": {},
     "output_type": "execute_result"
    }
   ],
   "source": [
    "#Do the prediction\n",
    "prediction_model.predict([[2015]])"
   ]
  },
  {
   "cell_type": "code",
   "execution_count": 42,
   "id": "b434a3b9",
   "metadata": {},
   "outputs": [
    {
     "data": {
      "text/plain": [
       "array([[147044.97320581]])"
      ]
     },
     "execution_count": 42,
     "metadata": {},
     "output_type": "execute_result"
    }
   ],
   "source": [
    "prediction_model.predict([[2016]])"
   ]
  },
  {
   "cell_type": "code",
   "execution_count": 43,
   "id": "d6a33d07",
   "metadata": {},
   "outputs": [],
   "source": [
    "#Evaluate the model"
   ]
  },
  {
   "cell_type": "code",
   "execution_count": 45,
   "id": "3b8a6826",
   "metadata": {},
   "outputs": [
    {
     "data": {
      "text/plain": [
       "array([[117138.06887003],\n",
       "       [ 83492.80149227],\n",
       "       [ 49847.53411451],\n",
       "       [-24919.72672496],\n",
       "       [102184.61670213],\n",
       "       [ 64800.9862824 ]])"
      ]
     },
     "execution_count": 45,
     "metadata": {},
     "output_type": "execute_result"
    }
   ],
   "source": [
    "y_pred=prediction_model.predict(x_test)\n",
    "y_pred"
   ]
  },
  {
   "cell_type": "code",
   "execution_count": 46,
   "id": "f5de3579",
   "metadata": {},
   "outputs": [
    {
     "name": "stdout",
     "output_type": "stream",
     "text": [
      "9637.588036204223\n",
      "278895457.1505415\n",
      "16700.1633869415\n",
      "0.7423640016287478\n"
     ]
    }
   ],
   "source": [
    "print(mean_absolute_error(y_test,y_pred))\n",
    "print(mean_squared_error(y_test,y_pred))\n",
    "print(np.sqrt(mean_squared_error(y_test,y_pred)))\n",
    "print(r2_score(y_test,y_pred))"
   ]
  },
  {
   "cell_type": "code",
   "execution_count": 54,
   "id": "b206762a",
   "metadata": {},
   "outputs": [
    {
     "ename": "SyntaxError",
     "evalue": "invalid syntax (<ipython-input-54-b669948004d0>, line 3)",
     "output_type": "error",
     "traceback": [
      "\u001b[0;36m  File \u001b[0;32m\"<ipython-input-54-b669948004d0>\"\u001b[0;36m, line \u001b[0;32m3\u001b[0m\n\u001b[0;31m    plt.xlabel('Years')\u001b[0m\n\u001b[0m    ^\u001b[0m\n\u001b[0;31mSyntaxError\u001b[0m\u001b[0;31m:\u001b[0m invalid syntax\n"
     ]
    }
   ],
   "source": [
    "plt.scatter(df['Years'],df['Total Number of Persons Killed (in numbers)'],color='red')\n",
    "plt.scatter(df['Years'],prediction_model.predict(df[['Total Number of Persons Killed (in number)']])\n",
    "plt.xlabel('Years')\n",
    "plt.ylabel('Total Number of Persons Killed (in numbers)')\n",
    "plt.title('no.of people died-Yearwise')\n",
    "plt.show()"
   ]
  },
  {
   "cell_type": "code",
   "execution_count": null,
   "id": "ccabe4fd",
   "metadata": {},
   "outputs": [],
   "source": []
  },
  {
   "cell_type": "code",
   "execution_count": null,
   "id": "0bcdc045",
   "metadata": {},
   "outputs": [],
   "source": []
  }
 ],
 "metadata": {
  "kernelspec": {
   "display_name": "Python 3",
   "language": "python",
   "name": "python3"
  },
  "language_info": {
   "codemirror_mode": {
    "name": "ipython",
    "version": 3
   },
   "file_extension": ".py",
   "mimetype": "text/x-python",
   "name": "python",
   "nbconvert_exporter": "python",
   "pygments_lexer": "ipython3",
   "version": "3.8.8"
  }
 },
 "nbformat": 4,
 "nbformat_minor": 5
}
